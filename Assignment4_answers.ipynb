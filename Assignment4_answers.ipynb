{
  "nbformat": 4,
  "nbformat_minor": 0,
  "metadata": {
    "colab": {
      "provenance": []
    },
    "kernelspec": {
      "name": "python3",
      "display_name": "Python 3"
    },
    "language_info": {
      "name": "python"
    }
  },
  "cells": [
    {
      "cell_type": "code",
      "execution_count": 2,
      "metadata": {
        "colab": {
          "base_uri": "https://localhost:8080/"
        },
        "id": "S6Cz8W4Pcz7A",
        "outputId": "fe3aaf54-d34b-4fb1-9174-c4d6fc931e45"
      },
      "outputs": [
        {
          "output_type": "stream",
          "name": "stdout",
          "text": [
            "[1, 5]\n"
          ]
        }
      ],
      "source": [
        "#question 1\n",
        "def common_elements(arr1, arr2, arr3):\n",
        "    i, j, k = 0, 0, 0\n",
        "    common = []\n",
        "\n",
        "    while i < len(arr1) and j < len(arr2) and k < len(arr3):\n",
        "        if arr1[i] == arr2[j] == arr3[k]:\n",
        "            common.append(arr1[i])\n",
        "            i += 1\n",
        "            j += 1\n",
        "            k += 1\n",
        "\n",
        "        elif arr1[i] < arr2[j]:\n",
        "            i += 1\n",
        "\n",
        "        elif arr2[j] < arr3[k]:\n",
        "            j += 1\n",
        "            \n",
        "        else:\n",
        "            k += 1\n",
        "\n",
        "    return common\n",
        "\n",
        "# Example usage:\n",
        "arr1 = [1, 2, 3, 4, 5]\n",
        "arr2 = [1, 2, 5, 7, 9]\n",
        "arr3 = [1, 3, 4, 5, 8]\n",
        "\n",
        "result = common_elements(arr1, arr2, arr3)\n",
        "print(result)\n",
        "\n",
        "#TC - O(n)\n",
        "#SC - O(1)"
      ]
    },
    {
      "cell_type": "code",
      "source": [
        "#question 2\n",
        "def find_disinct_elements(nums1, nums2):\n",
        "    set1 = set(nums1)\n",
        "    set2 = set(nums2)\n",
        "\n",
        "    distinct_nums1 = list(set1 - set2)\n",
        "    distinct_nums2 = list(set2 - set1)\n",
        "\n",
        "    return [distinct_nums1, distinct_nums2]\n",
        "\n",
        "# Example usage:\n",
        "nums1 = [1, 2, 3]\n",
        "nums2 = [2, 4, 6]\n",
        "\n",
        "result = find_disinct_elements(nums1, nums2)\n",
        "print(result)\n",
        "\n",
        "#TC - O(m+n)\n",
        "#SC - O(m+n)\n"
      ],
      "metadata": {
        "colab": {
          "base_uri": "https://localhost:8080/"
        },
        "id": "LxEgcomndDdA",
        "outputId": "ca668f0e-f793-449d-b5b0-ffac9e0f4400"
      },
      "execution_count": 3,
      "outputs": [
        {
          "output_type": "stream",
          "name": "stdout",
          "text": [
            "[[1, 3], [4, 6]]\n"
          ]
        }
      ]
    },
    {
      "cell_type": "code",
      "source": [
        "#question 3\n",
        "def transpose(matrix):\n",
        "    rows = len(matrix)\n",
        "    cols = len(matrix[0])\n",
        "\n",
        "    # Create a new matrix with swapped dimensions\n",
        "    transposed = [[0 for _ in range(rows)] for _ in range(cols)]\n",
        "\n",
        "    # Populate the transposed matrix\n",
        "    for i in range(rows):\n",
        "        for j in range(cols):\n",
        "            transposed[j][i] = matrix[i][j]\n",
        "\n",
        "    return transposed\n",
        "\n",
        "# Example usage:\n",
        "matrix = [[1, 2, 3], [4, 5, 6], [7, 8, 9]]\n",
        "\n",
        "result = transpose(matrix)\n",
        "print(result)\n",
        "\n",
        "#TC - O(m*n)\n",
        "#SC - O(m+n)\n"
      ],
      "metadata": {
        "colab": {
          "base_uri": "https://localhost:8080/"
        },
        "id": "HJztrnb3eV0A",
        "outputId": "77317a5a-87c5-4cd5-b26b-91a47a62da5e"
      },
      "execution_count": 4,
      "outputs": [
        {
          "output_type": "stream",
          "name": "stdout",
          "text": [
            "[[1, 4, 7], [2, 5, 8], [3, 6, 9]]\n"
          ]
        }
      ]
    },
    {
      "cell_type": "code",
      "source": [
        "#question 4\n",
        "def array_pair_sum(nums):\n",
        "    nums.sort()  # Sort the array in ascending order\n",
        "    n = len(nums) // 2\n",
        "    max_sum = 0\n",
        "\n",
        "    for i in range(n):\n",
        "        max_sum += nums[2 * i]  # Add the minimum element of each pair\n",
        "\n",
        "    return max_sum\n",
        "\n",
        "# Example usage:\n",
        "nums = [1, 4, 3, 2]\n",
        "\n",
        "result = array_pair_sum(nums)\n",
        "print(result)\n",
        "\n",
        "#TC - O(nlogn)----sorting\n",
        "#SC - O(1)\n"
      ],
      "metadata": {
        "colab": {
          "base_uri": "https://localhost:8080/"
        },
        "id": "ubLLz0trh6vm",
        "outputId": "e140a5c4-42f2-4d30-ddc2-cf8cb3a20a2d"
      },
      "execution_count": 5,
      "outputs": [
        {
          "output_type": "stream",
          "name": "stdout",
          "text": [
            "4\n"
          ]
        }
      ]
    },
    {
      "cell_type": "code",
      "source": [
        "#question 5\n",
        "def arrange_coins(n):\n",
        "    i = 1  # Start with the first row\n",
        "    while n >= i:\n",
        "        n -= i\n",
        "        i += 1\n",
        "\n",
        "    return i - 1\n",
        "\n",
        "# Example usage:\n",
        "n = 5\n",
        "\n",
        "result = arrange_coins(n)\n",
        "print(result)\n",
        "\n",
        "#TC - O(sqrt(n))  ------when n = 9, sqrt(n)=3 ie the loop runs for 3 iterations (1, 2, 3).here n=5 so sqrt(5) = 2 so output here is 2\n",
        "#SC - O(1)"
      ],
      "metadata": {
        "colab": {
          "base_uri": "https://localhost:8080/"
        },
        "id": "AstnukpXjC9f",
        "outputId": "07e7fd9d-d01d-4095-b7b9-e80c511e5025"
      },
      "execution_count": 7,
      "outputs": [
        {
          "output_type": "stream",
          "name": "stdout",
          "text": [
            "2\n"
          ]
        }
      ]
    },
    {
      "cell_type": "code",
      "source": [
        "#question 6\n",
        "def sorted_squares(nums):\n",
        "    squared_nums = [num * num for num in nums]  # Square each number\n",
        "    #squared_nums = [num**2 for num in nums]\n",
        "\n",
        "    squared_nums.sort()  # Sort the squared numbers in non-decreasing order\n",
        "    \n",
        "    return squared_nums\n",
        "\n",
        "\n",
        "# Example usage:\n",
        "nums = [-4, -1, 0, 3, 10]\n",
        "\n",
        "result = sorted_squares(nums)\n",
        "print(result)\n",
        "\n",
        "#TC - O(nlogn)----sorting\n",
        "#SC - O(n)"
      ],
      "metadata": {
        "colab": {
          "base_uri": "https://localhost:8080/"
        },
        "id": "Sd7iLcH8jaqq",
        "outputId": "c3f051d2-03b7-42c5-b7bd-8f83d331e7fd"
      },
      "execution_count": 8,
      "outputs": [
        {
          "output_type": "stream",
          "name": "stdout",
          "text": [
            "[0, 1, 9, 16, 100]\n"
          ]
        }
      ]
    },
    {
      "cell_type": "code",
      "source": [
        "#question 7\n",
        "def max_count(m, n, ops):\n",
        "    if not ops:\n",
        "        return m * n  # No operations, return total count of elements in the matrix\n",
        "\n",
        "    min_row = min(op[0] for op in ops)  # Find the minimum row value from operations\n",
        "    min_col = min(op[1] for op in ops)  # Find the minimum column value from operations\n",
        "\n",
        "    \"\"\"\n",
        "     for op in ops:\n",
        "        m = min(m, op[0])\n",
        "        n = min(n, op[1])\n",
        "    \"\"\"\n",
        "\n",
        "    return min_row * min_col  # Return the count of maximum integers\n",
        "\n",
        "# Example usage:\n",
        "m = 3\n",
        "n = 3\n",
        "ops = [[2, 2], [3, 3]]\n",
        "\n",
        "result = max_count(m, n, ops)\n",
        "print(result)\n",
        "\n",
        "#TC - O(n)---coz of max and min func\n",
        "#SC - O(1)"
      ],
      "metadata": {
        "colab": {
          "base_uri": "https://localhost:8080/"
        },
        "id": "tLEPhlC5mh-y",
        "outputId": "5e1fc148-3351-43d4-acff-3ae747b04294"
      },
      "execution_count": 12,
      "outputs": [
        {
          "output_type": "stream",
          "name": "stdout",
          "text": [
            "4\n"
          ]
        }
      ]
    },
    {
      "cell_type": "code",
      "source": [
        "#question 8\n",
        "def shuffle(nums, n):\n",
        "    result = []\n",
        "    for i in range(n):\n",
        "        result.append(nums[i])\n",
        "        result.append(nums[i + n])\n",
        "    return result\n",
        "\n",
        "# Example usage:\n",
        "nums = [2, 5, 1, 3, 4, 7]\n",
        "n = 3\n",
        "\n",
        "result = shuffle(nums, n)\n",
        "print(result)\n",
        "\n",
        "#TC - O(n)\n",
        "#SC - O(n)"
      ],
      "metadata": {
        "colab": {
          "base_uri": "https://localhost:8080/"
        },
        "id": "XSz4PW_pncxo",
        "outputId": "444f9eb3-9c96-4230-b6d6-bf4cf0b6b6b8"
      },
      "execution_count": 15,
      "outputs": [
        {
          "output_type": "stream",
          "name": "stdout",
          "text": [
            "[2, 3, 5, 4, 1, 7]\n"
          ]
        }
      ]
    },
    {
      "cell_type": "code",
      "source": [],
      "metadata": {
        "id": "CD2pyPkLt-rB"
      },
      "execution_count": null,
      "outputs": []
    }
  ]
}